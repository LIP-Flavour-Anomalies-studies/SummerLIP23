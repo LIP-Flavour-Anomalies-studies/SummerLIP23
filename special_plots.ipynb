{
 "cells": [
  {
   "cell_type": "code",
   "execution_count": 14,
   "metadata": {},
   "outputs": [],
   "source": [
    "import pandas as pd\n",
    "import uproot\n",
    "import matplotlib.pyplot as plt\n",
    "import numpy as np\n",
    "import os\n",
    "import utils_fom"
   ]
  },
  {
   "cell_type": "code",
   "execution_count": 15,
   "metadata": {},
   "outputs": [],
   "source": [
    "dir=\"/lstore/cms/boletti/ntuples/\"\n",
    "filename=\"2018Data_passPreselection_passSPlotCuts_mergeSweights.root\"\n",
    "filename2=\"MC_JPSI_2018_preBDT_Nov21.root\"\n",
    "\n",
    "data = uproot.open(dir+filename)\n",
    "data_mc=uproot.open(dir+filename2)\n",
    "\n",
    "Tree=data[\"ntuple\"]\n",
    "Tree_mc=data_mc[\"ntuple\"]\n",
    "\n",
    "variables_path = 'vars.csv'\n",
    "df = pd.read_csv(variables_path, header=0)\n",
    "df.columns = df.columns.str.strip()"
   ]
  },
  {
   "cell_type": "code",
   "execution_count": 16,
   "metadata": {},
   "outputs": [],
   "source": [
    "def get_signal_normal(v,sel):\n",
    "    background=Tree.arrays(v,cut=sel,library=\"pd\")\n",
    "    signal=Tree_mc.arrays(v,cut=sel,library=\"pd\")\n",
    "    return signal,background\n",
    "\n",
    "def get_signal_composite(v,sel):\n",
    "    signal=Tree_mc.arrays(v,aliases={v:v},cut=sel,library=\"pd\")\n",
    "    background=Tree.arrays(v,aliases={v:v},cut=sel,library=\"pd\")\n",
    "    return signal,background"
   ]
  },
  {
   "cell_type": "code",
   "execution_count": 17,
   "metadata": {},
   "outputs": [],
   "source": [
    "v=\"bLBS/bLBSE\"\n",
    "v=\"bLBS\"\n",
    "v=\"bVtxCL\"\n",
    "v=\"kstTrmPt\"\n",
    "v=\"kstTrpPt\"\n",
    "v=\"mu1Pt\"\n",
    "v=\"mu2Pt\""
   ]
  },
  {
   "cell_type": "code",
   "execution_count": null,
   "metadata": {},
   "outputs": [],
   "source": []
  },
  {
   "cell_type": "code",
   "execution_count": 22,
   "metadata": {},
   "outputs": [],
   "source": [
    "def calc_fom(v,signal,background,minv,maxv,fs,fb,show_upper,legend,xlim,ylim):\n",
    "    #os.chdir(\"/user/u/u23madalenablanc/flavour-anomalies/SummerLIP23/\"+folder)\n",
    "\n",
    "    num_points=200\n",
    "\n",
    "    while True:\n",
    "        try:\n",
    "            step = (maxv - minv) / (num_points - 1)\n",
    "            var_range = np.arange(minv, maxv , step)\n",
    "\n",
    "            break\n",
    "        except ValueError:\n",
    "            minv=signal[v].min()\n",
    "            maxv=signal[v].max()\n",
    "    \n",
    "    fom=[]\n",
    "    fom_opposite=[]\n",
    "\n",
    "    for i in var_range:\n",
    "        s=0;b=0;f=0\n",
    "        #print(i)\n",
    "\n",
    "        #print(signal.size)\n",
    "        s = np.sum(signal[v] > i)\n",
    "        s=s*fs\n",
    "        b = np.sum(background[v] > i)\n",
    "        b=b*fb\n",
    "\n",
    "        s_opposite=np.sum(signal[v]<i)\n",
    "        s_opposite*=fs\n",
    "        b_opposite = np.sum(background[v] < i)\n",
    "        b_opposite*=fb\n",
    "\n",
    "\n",
    "        f=s/(s+b)**0.5\n",
    "        #print(str(i)+\" , figure of merit:\"+str(f))\n",
    "        fom.append(f)\n",
    "\n",
    "        if (s_opposite>0 or b_opposite>0):\n",
    "            fom_opposite.append(s_opposite/(s_opposite+b_opposite)**0.5)\n",
    "        else:\n",
    "            fom_opposite.append(0)\n",
    "\n",
    "\n",
    "    if show_upper==1:\n",
    "        label=\"upper cut\"\n",
    "        fom_to_plot=fom_opposite\n",
    "    else:\n",
    "        label=\"lower cut\"\n",
    "        fom_to_plot=fom\n",
    "\n",
    "\n",
    "    os.chdir(\"/user/u/u23madalenablanc/flavour-anomalies/special_plots/\")\n",
    "\n",
    "    plt.figure()\n",
    "    \n",
    "    \n",
    "    plt.plot(var_range,fom_to_plot,label=label)\n",
    "\n",
    "    #plt.title(f\"FOM for: {v}\")\n",
    "    plt.legend()\n",
    "    plt.xlabel(legend)\n",
    "    plt.ylabel(\"FOM\")\n",
    "    plt.xlim(xlim)\n",
    "    plt.ylim(ylim)\n",
    "\n",
    "    while True:\n",
    "        try:\n",
    "            plt.savefig(v+'_fom_special.png')\n",
    "            break\n",
    "        except FileNotFoundError:\n",
    "            print(\"bad name\")\n",
    "            v=v.replace(\"/\", \"_div_\")   "
   ]
  },
  {
   "cell_type": "code",
   "execution_count": 19,
   "metadata": {},
   "outputs": [],
   "source": [
    "left_edge,right_edge,fb,fs=utils_fom.get_factors(\"/user/u/u23madalenablanc/flavour-anomalies/SummerLIP23/Fit results/B0Fit_3.5sigma_results.txt\")\n",
    "\n",
    "sel=\"(tagged_mass<\" + left_edge+ \") | (tagged_mass>\" +right_edge + \")\""
   ]
  },
  {
   "cell_type": "code",
   "execution_count": 20,
   "metadata": {},
   "outputs": [],
   "source": [
    "v=\"bLBS/bLBSE\"\n",
    "var_range_x=[0,15]\n",
    "var_range_y=[160,180]"
   ]
  },
  {
   "cell_type": "code",
   "execution_count": 24,
   "metadata": {},
   "outputs": [],
   "source": [
    "v=\"bLBS\"\n",
    "var_range_x=[0,0.1]\n",
    "var_range_y=[160,180]"
   ]
  },
  {
   "cell_type": "code",
   "execution_count": 26,
   "metadata": {},
   "outputs": [],
   "source": [
    "v=\"bVtxCL\"\n",
    "var_range_x=[0,0.07]\n",
    "var_range_y=[160,180]"
   ]
  },
  {
   "cell_type": "code",
   "execution_count": 30,
   "metadata": {},
   "outputs": [],
   "source": [
    "v=\"kstTrkmPt\"\n",
    "var_range_x=[0,2]\n",
    "var_range_y=[160,180]"
   ]
  },
  {
   "cell_type": "code",
   "execution_count": 32,
   "metadata": {},
   "outputs": [],
   "source": [
    "v=\"kstTrkpPt\"\n",
    "var_range_x=[0,2]\n",
    "var_range_y=[160,180]"
   ]
  },
  {
   "cell_type": "code",
   "execution_count": 34,
   "metadata": {},
   "outputs": [],
   "source": [
    "v=\"mu1Pt\"\n",
    "var_range_x=[0,8]\n",
    "var_range_y=[160,180]"
   ]
  },
  {
   "cell_type": "code",
   "execution_count": 36,
   "metadata": {},
   "outputs": [],
   "source": [
    "v=\"mu2Pt\"\n",
    "var_range_x=[0,7]\n",
    "var_range_y=[160,180]"
   ]
  },
  {
   "cell_type": "code",
   "execution_count": 37,
   "metadata": {},
   "outputs": [
    {
     "name": "stdout",
     "output_type": "stream",
     "text": [
      "0.0 22.0\n"
     ]
    },
    {
     "data": {
      "image/png": "[encoded data removed]",
      "text/plain": [
       "<Figure size 640x480 with 1 Axes>"
      ]
     },
     "metadata": {},
     "output_type": "display_data"
    }
   ],
   "source": [
    "composite_value = df.loc[df[\"var_name\"] == v, \"composite\"].iloc[0]\n",
    "minv= df.loc[df[\"var_name\"] == v, \"min\"].iloc[0]\n",
    "maxv= df.loc[df[\"var_name\"] == v, \"max\"].iloc[0]\n",
    "show_upper=df.loc[df[\"var_name\"] == v, \"show_upper\"].iloc[0]\n",
    "legend=df.loc[df[\"var_name\"] == v, \"legend\"].iloc[0]\n",
    "\n",
    "print(minv,maxv)\n",
    "\n",
    "if composite_value==0:\n",
    "    signal,back=get_signal_normal(v,sel)\n",
    "elif (composite_value)==1:\n",
    "    signal,back=get_signal_composite(v,sel)\n",
    "calc_fom(v,signal,back,minv,maxv,fs,fb,show_upper,legend,var_range_x,var_range_y)"
   ]
  },
  {
   "cell_type": "code",
   "execution_count": null,
   "metadata": {},
   "outputs": [],
   "source": []
  }
 ],
 "metadata": {
  "kernelspec": {
   "display_name": "myenv",
   "language": "python",
   "name": "python3"
  },
  "language_info": {
   "codemirror_mode": {
    "name": "ipython",
    "version": 3
   },
   "file_extension": ".py",
   "mimetype": "text/x-python",
   "name": "python",
   "nbconvert_exporter": "python",
   "pygments_lexer": "ipython3",
   "version": "3.9.13"
  },
  "orig_nbformat": 4
 },
 "nbformat": 4,
 "nbformat_minor": 2
}
